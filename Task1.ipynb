{
  "nbformat": 4,
  "nbformat_minor": 0,
  "metadata": {
    "colab": {
      "name": "Task1.ipynb",
      "provenance": [],
      "collapsed_sections": []
    },
    "kernelspec": {
      "name": "python3",
      "display_name": "Python 3"
    },
    "language_info": {
      "name": "python"
    }
  },
  "cells": [
    {
      "cell_type": "code",
      "execution_count": null,
      "metadata": {
        "id": "vh0WEZaTe8E_"
      },
      "outputs": [],
      "source": [
        "import pandas as pd\n",
        "import numpy as np\n",
        "\n",
        "\n",
        "df =  pd.read_csv(\"/content/task01.csv\")\n",
        "df =  np.array(df)\n",
        "np.random.shuffle(df)\n",
        "\n",
        "x = df[:, 1]\n",
        "y = df[:, 2]\n",
        "def loss_func(y_true,y_pred):\n",
        "  n=len(y_true)\n",
        "  ans=1/n*sum(((y_true-y_pred)*(y_true-y_pred)))\n",
        "  return ans\n",
        "trainSize=int(0.7*len(x))\n",
        "X_Train = x[:trainSize]\n",
        "Y_Train = y[:trainSize]\n",
        "\n",
        "testSize = int(0.15*len(x))\n",
        "X_Test = x[trainSize:trainSize+testSize]\n",
        "Y_Test = y[trainSize:trainSize+testSize]\n",
        "        \n",
        "valSize = int(0.15*len(x))\n",
        "X_Val = x[trainSize+testSize:trainSize+testSize+valSize+1]\n",
        "Y_Val = y[trainSize+testSize:trainSize+testSize+valSize+1]\n"
      ]
    }
  ]
}