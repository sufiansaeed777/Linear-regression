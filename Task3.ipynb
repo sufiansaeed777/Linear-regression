{
  "nbformat": 4,
  "nbformat_minor": 0,
  "metadata": {
    "colab": {
      "name": "Task3.ipynb",
      "provenance": [],
      "collapsed_sections": []
    },
    "kernelspec": {
      "name": "python3",
      "display_name": "Python 3"
    },
    "language_info": {
      "name": "python"
    }
  },
  "cells": [
    {
      "cell_type": "code",
      "execution_count": 120,
      "metadata": {
        "id": "gjXxxXOAORQB"
      },
      "outputs": [],
      "source": [
        "import pandas as pd\n",
        "import numpy as np\n",
        "\n",
        "\n",
        "df =  pd.read_csv(\"/content/task02.csv\")\n",
        "df =  np.array(df)\n",
        "np.random.shuffle(df)\n",
        "\n",
        "x1 = df[:, 1]\n",
        "x2 = df[:,2]\n",
        "x3 = df[:,3]\n",
        "x4= df[:,4]\n",
        "y = df[:, 5]\n",
        "def loss_func(y_true,y_pred):\n",
        "  n=len(y_true)\n",
        "  ans=1/n*sum(((y_true-y_pred)*(y_true-y_pred)))\n",
        "  return ans\n",
        "trainSize=int(0.7*len(df))\n",
        "X1_Train = x1[:trainSize]\n",
        "X2_Train = x2[:trainSize]\n",
        "X3_Train = x3[:trainSize]\n",
        "X4_Train = x4[:trainSize]\n",
        "Y_Train = y[:trainSize]\n",
        "\n",
        "testSize = int(0.15*len(df))\n",
        "X1_Test = x1[trainSize:trainSize+testSize]\n",
        "X2_Test = x2[trainSize:trainSize+testSize]\n",
        "X3_Test = x3[trainSize:trainSize+testSize]\n",
        "X4_Test = x4[trainSize:trainSize+testSize]\n",
        "Y_Test = y[trainSize:trainSize+testSize]\n",
        "        \n",
        "valSize = int(0.15*len(df))\n",
        "X1_Val = x1[trainSize+testSize:trainSize+testSize+valSize+1]\n",
        "X2_Val = x2[trainSize+testSize:trainSize+testSize+valSize+1]\n",
        "X3_Val = x3[trainSize+testSize:trainSize+testSize+valSize+1]\n",
        "X4_Val = x4[trainSize+testSize:trainSize+testSize+valSize+1]\n",
        "Y_Val = y[trainSize+testSize:trainSize+testSize+valSize+1]\n",
        "\n",
        "lr =0.0000000001\n",
        "epochs=1200\n",
        "m1 = np.random.uniform(np.mean(Y_Train)/np.mean(X1_Train),np.mean(Y_Train)/np.mean(X1_Train)+1000)\n",
        "m2 = np.random.uniform(np.mean(Y_Train)/np.mean(X2_Train),np.mean(Y_Train)/np.mean(X2_Train)+1000)\n",
        "m3 = np.random.uniform(np.mean(Y_Train)/np.mean(X3_Train),np.mean(Y_Train)/np.mean(X3_Train)+1000)\n",
        "m4 = np.random.uniform(np.mean(Y_Train)/np.mean(X4_Train),np.mean(Y_Train)/np.mean(X4_Train)+1000)\n",
        "c = np.random.uniform(np.mean(Y_Train),np.mean(Y_Train)+1000)\n",
        "\n",
        "z=0\n",
        "n = len(x1)\n",
        "train_loss=[]\n",
        "val_loss=[]\n",
        "for i in range(epochs):\n",
        "\n",
        "  Ygrad_train=(m1*X1_Train)+(m2*X2_Train)+(m3*X3_Train)+(m4*X4_Train)+c\n",
        "  Ygrad_val = (m1*X1_Val)+(m2*X2_Val)+(m3*X3_Val)+(m4*X4_Val) + c,\n",
        "  mt=loss_func( Y_Train,Ygrad_train)\n",
        "  mv=loss_func( Y_Val,Ygrad_val)\n",
        "  train_loss.append(mt)\n",
        "  val_loss.append(mv)\n",
        "  derM1=1/n*np.sum((Ygrad_train-Y_Train)*X1_Train)\n",
        "  derM2=1/n*np.sum((Ygrad_train-Y_Train)*X2_Train)\n",
        "  derM3=1/n*np.sum((Ygrad_train-Y_Train)*X3_Train)\n",
        "  derM4=1/n*np.sum((Ygrad_train-Y_Train)*X4_Train)\n",
        "  derC=1/n*np.sum((Ygrad_train-Y_Train))\n",
        "  m1-=lr*derM1\n",
        "  m2-=lr*derM2\n",
        "  m3-=lr*derM3\n",
        "  m4-=lr*derM4\n",
        "  c-=lr*derC\n",
        "\n"
      ]
    },
    {
      "cell_type": "code",
      "source": [
        "from matplotlib import pyplot as plt\n",
        "plt.plot(np.array(train_loss))\n",
        "plt.plot(np.array(val_loss))\n",
        "plt.show()"
      ],
      "metadata": {
        "colab": {
          "base_uri": "https://localhost:8080/",
          "height": 276
        },
        "id": "F85Zbyd3Sd1m",
        "outputId": "9dc676b6-9159-4726-d8ec-ecc578c969e2"
      },
      "execution_count": 121,
      "outputs": [
        {
          "output_type": "display_data",
          "data": {
            "text/plain": [
              "<Figure size 432x288 with 1 Axes>"
            ],
            "image/png": "[encoded data removed]"
          },
          "metadata": {
            "needs_background": "light"
          }
        }
      ]
    },
    {
      "cell_type": "code",
      "source": [
        "Ygrad_test=(m1*X1_Test)+(m2*X2_Test)+(m3*X3_Test)+(m4*X4_Test)+c\n",
        "plt.scatter(x1, y)\n",
        "\n",
        "\n"
      ],
      "metadata": {
        "colab": {
          "base_uri": "https://localhost:8080/",
          "height": 282
        },
        "id": "0y2K17DsSiXx",
        "outputId": "9f5b364d-b678-4c5d-d00a-b6f47c391e7a"
      },
      "execution_count": 122,
      "outputs": [
        {
          "output_type": "execute_result",
          "data": {
            "text/plain": [
              "<matplotlib.collections.PathCollection at 0x7f635fd0d750>"
            ]
          },
          "metadata": {},
          "execution_count": 122
        },
        {
          "output_type": "display_data",
          "data": {
            "text/plain": [
              "<Figure size 432x288 with 1 Axes>"
            ],
            "image/png": "[encoded data removed]"
          },
          "metadata": {
            "needs_background": "light"
          }
        }
      ]
    },
    {
      "cell_type": "code",
      "source": [
        "plt.scatter(x2, y)"
      ],
      "metadata": {
        "colab": {
          "base_uri": "https://localhost:8080/",
          "height": 282
        },
        "id": "ccmGucb2cDIm",
        "outputId": "dfc66438-69d5-4504-e457-32f6b931c10d"
      },
      "execution_count": 123,
      "outputs": [
        {
          "output_type": "execute_result",
          "data": {
            "text/plain": [
              "<matplotlib.collections.PathCollection at 0x7f636007b6d0>"
            ]
          },
          "metadata": {},
          "execution_count": 123
        },
        {
          "output_type": "display_data",
          "data": {
            "text/plain": [
              "<Figure size 432x288 with 1 Axes>"
            ],
            "image/png": "[encoded data removed]"
          },
          "metadata": {
            "needs_background": "light"
          }
        }
      ]
    },
    {
      "cell_type": "code",
      "source": [
        "plt.scatter(x3, y)\n"
      ],
      "metadata": {
        "colab": {
          "base_uri": "https://localhost:8080/",
          "height": 282
        },
        "id": "LB8kkOUocGXy",
        "outputId": "e136fc6f-f50a-4b5a-8f57-37bc189097e1"
      },
      "execution_count": 124,
      "outputs": [
        {
          "output_type": "execute_result",
          "data": {
            "text/plain": [
              "<matplotlib.collections.PathCollection at 0x7f635f450a10>"
            ]
          },
          "metadata": {},
          "execution_count": 124
        },
        {
          "output_type": "display_data",
          "data": {
            "text/plain": [
              "<Figure size 432x288 with 1 Axes>"
            ],
            "image/png": "[encoded data removed]"
          },
          "metadata": {
            "needs_background": "light"
          }
        }
      ]
    },
    {
      "cell_type": "code",
      "source": [
        "plt.scatter(x4, y)"
      ],
      "metadata": {
        "colab": {
          "base_uri": "https://localhost:8080/",
          "height": 282
        },
        "id": "JfybP2iCcISj",
        "outputId": "883547e5-10b1-4188-e0f3-1328cc46d8fe"
      },
      "execution_count": 125,
      "outputs": [
        {
          "output_type": "execute_result",
          "data": {
            "text/plain": [
              "<matplotlib.collections.PathCollection at 0x7f635e4e7390>"
            ]
          },
          "metadata": {},
          "execution_count": 125
        },
        {
          "output_type": "display_data",
          "data": {
            "text/plain": [
              "<Figure size 432x288 with 1 Axes>"
            ],
            "image/png": "[encoded data removed]"
          },
          "metadata": {
            "needs_background": "light"
          }
        }
      ]
    },
    {
      "cell_type": "code",
      "source": [
        "print(loss_func(Ygrad_test,Y_Test))\n"
      ],
      "metadata": {
        "colab": {
          "base_uri": "https://localhost:8080/"
        },
        "id": "k-NE_TWkSjjx",
        "outputId": "0d36fbb6-571f-4e77-cc03-eb568eca769d"
      },
      "execution_count": 126,
      "outputs": [
        {
          "output_type": "stream",
          "name": "stdout",
          "text": [
            "103541829337.82153\n"
          ]
        }
      ]
    },
    {
      "cell_type": "code",
      "source": [
        "def Normalization(x):\n",
        "  ans=(x-np.mean(x))/(np.std(x))\n",
        "  return ans"
      ],
      "metadata": {
        "id": "axiue0uCV7Y1"
      },
      "execution_count": 127,
      "outputs": []
    },
    {
      "cell_type": "code",
      "source": [
        "Normalization(x1)\n",
        "Normalization(x2)\n",
        "Normalization(x3)\n",
        "Normalization(x4)"
      ],
      "metadata": {
        "colab": {
          "base_uri": "https://localhost:8080/"
        },
        "id": "UhpdpvwbWFQX",
        "outputId": "cb8a8783-5bcc-4bbb-e691-0297ee181c54"
      },
      "execution_count": 128,
      "outputs": [
        {
          "output_type": "execute_result",
          "data": {
            "text/plain": [
              "array([ 1.15035602, -1.3668205 , -1.0687338 , ...,  1.15035602,\n",
              "        1.08411453, -0.77064711])"
            ]
          },
          "metadata": {},
          "execution_count": 128
        }
      ]
    },
    {
      "cell_type": "code",
      "source": [
        "trainSize=int(0.7*len(df))\n",
        "X1_Train = x1[:trainSize]\n",
        "X2_Train = x2[:trainSize]\n",
        "X3_Train = x3[:trainSize]\n",
        "X4_Train = x4[:trainSize]\n",
        "Y_Train = y[:trainSize]\n",
        "\n",
        "testSize = int(0.15*len(df))\n",
        "X1_Test = x1[trainSize:trainSize+testSize]\n",
        "X2_Test = x2[trainSize:trainSize+testSize]\n",
        "X3_Test = x3[trainSize:trainSize+testSize]\n",
        "X4_Test = x4[trainSize:trainSize+testSize]\n",
        "Y_Test = y[trainSize:trainSize+testSize]\n",
        "        \n",
        "valSize = int(0.15*len(df))\n",
        "X1_Val = x1[trainSize+testSize:trainSize+testSize+valSize+1]\n",
        "X2_Val = x2[trainSize+testSize:trainSize+testSize+valSize+1]\n",
        "X3_Val = x3[trainSize+testSize:trainSize+testSize+valSize+1]\n",
        "X4_Val = x4[trainSize+testSize:trainSize+testSize+valSize+1]\n",
        "Y_Val = y[trainSize+testSize:trainSize+testSize+valSize+1]\n",
        "\n",
        "lr =0.0000000001\n",
        "epochs=1200\n",
        "m1 = np.random.uniform(np.mean(Y_Train)/np.mean(X1_Train),np.mean(Y_Train)/np.mean(X1_Train)+1000)\n",
        "m2 = np.random.uniform(np.mean(Y_Train)/np.mean(X2_Train),np.mean(Y_Train)/np.mean(X2_Train)+1000)\n",
        "m3 = np.random.uniform(np.mean(Y_Train)/np.mean(X3_Train),np.mean(Y_Train)/np.mean(X3_Train)+1000)\n",
        "m4 = np.random.uniform(np.mean(Y_Train)/np.mean(X4_Train),np.mean(Y_Train)/np.mean(X4_Train)+1000)\n",
        "c = np.random.uniform(np.mean(Y_Train),np.mean(Y_Train)+1000)\n",
        "\n",
        "\n",
        "n = len(x1)\n",
        "train_loss=[]\n",
        "val_loss=[]\n",
        "for i in range(epochs):\n",
        "\n",
        "  Ygrad_train=(m1*X1_Train)+(m2*X2_Train)+(m3*X3_Train)+(m4*X4_Train)+c\n",
        "  Ygrad_val = (m1*X1_Val)+(m2*X2_Val)+(m3*X3_Val)+(m4*X4_Val) + c,\n",
        "  mt=loss_func( Y_Train,Ygrad_train)\n",
        "  mv=loss_func( Y_Val,Ygrad_val)\n",
        "  train_loss.append(mt)\n",
        "  val_loss.append(mv)\n",
        "  derM1=1/n*np.sum((Ygrad_train-Y_Train)*X1_Train)\n",
        "  derM2=1/n*np.sum((Ygrad_train-Y_Train)*X2_Train)\n",
        "  derM3=1/n*np.sum((Ygrad_train-Y_Train)*X3_Train)\n",
        "  derM4=1/n*np.sum((Ygrad_train-Y_Train)*X4_Train)\n",
        "  derC=1/n*np.sum((Ygrad_train-Y_Train))\n",
        "  m1-=lr*derM1\n",
        "  m2-=lr*derM2\n",
        "  m3-=lr*derM3\n",
        "  m4-=lr*derM4\n",
        "  c-=lr*derC"
      ],
      "metadata": {
        "id": "hbx6Corvc9Rh"
      },
      "execution_count": 129,
      "outputs": []
    },
    {
      "cell_type": "code",
      "source": [
        "print(loss_func(Ygrad_test,Y_Test))\n",
        "\n"
      ],
      "metadata": {
        "colab": {
          "base_uri": "https://localhost:8080/"
        },
        "id": "QOuCZKtRqcL4",
        "outputId": "6fad3b9f-06d9-4edd-b572-0ce12e46d57e"
      },
      "execution_count": 131,
      "outputs": [
        {
          "output_type": "stream",
          "name": "stdout",
          "text": [
            "103541829337.82153\n"
          ]
        }
      ]
    },
    {
      "cell_type": "code",
      "source": [
        "plt.plot(train_loss)\n",
        "plt.plot(val_loss)\n",
        "plt.show"
      ],
      "metadata": {
        "colab": {
          "base_uri": "https://localhost:8080/",
          "height": 294
        },
        "id": "4P1v2gGnd2wk",
        "outputId": "d258dcc4-7b28-4207-c78e-17cf9d2b0a4f"
      },
      "execution_count": 132,
      "outputs": [
        {
          "output_type": "execute_result",
          "data": {
            "text/plain": [
              "<function matplotlib.pyplot.show>"
            ]
          },
          "metadata": {},
          "execution_count": 132
        },
        {
          "output_type": "display_data",
          "data": {
            "text/plain": [
              "<Figure size 432x288 with 1 Axes>"
            ],
            "image/png": "[encoded data removed]"
          },
          "metadata": {
            "needs_background": "light"
          }
        }
      ]
    }
  ]
}